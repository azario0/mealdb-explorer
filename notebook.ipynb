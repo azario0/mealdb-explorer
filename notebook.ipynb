{
 "cells": [
  {
   "cell_type": "code",
   "execution_count": null,
   "id": "b5c793ea",
   "metadata": {},
   "outputs": [],
   "source": [
    "# In a Jupyter Notebook cell\n",
    "\n",
    "import requests\n",
    "from IPython.display import display, HTML, Image\n",
    "import json # For pretty printing errors if needed\n",
    "\n",
    "# --- Configuration ---\n",
    "BASE_URL = \"https://www.themealdb.com/api/json/v1/1/\"\n",
    "\n",
    "# --- 1. Base API Fetch Function ---\n",
    "def fetch_api_data(endpoint, params=None):\n",
    "    \"\"\"\n",
    "    Fetches data from TheMealDB API.\n",
    "\n",
    "    Args:\n",
    "        endpoint (str): The API endpoint (e.g., \"search.php\").\n",
    "        params (dict, optional): A dictionary of query parameters. Defaults to None.\n",
    "\n",
    "    Returns:\n",
    "        dict: The JSON response from the API, or an error dictionary.\n",
    "    \"\"\"\n",
    "    try:\n",
    "        url = f\"{BASE_URL}{endpoint}\"\n",
    "        response = requests.get(url, params=params)\n",
    "        response.raise_for_status()  # Raises an HTTPError for bad responses (4XX or 5XX)\n",
    "        return response.json()\n",
    "    except requests.exceptions.HTTPError as http_err:\n",
    "        print(f\"HTTP error occurred: {http_err} - Status Code: {response.status_code}\")\n",
    "        try:\n",
    "            error_content = response.json() # Try to parse JSON error from API\n",
    "            print(\"API Error Content:\")\n",
    "            print(json.dumps(error_content, indent=2))\n",
    "            return {\"error\": str(http_err), \"details\": error_content, \"status_code\": response.status_code}\n",
    "        except ValueError: # If error response is not JSON\n",
    "            print(\"API Error Content (Non-JSON):\")\n",
    "            print(response.text)\n",
    "            return {\"error\": str(http_err), \"raw_content\": response.text, \"status_code\": response.status_code}\n",
    "    except requests.exceptions.RequestException as req_err:\n",
    "        print(f\"Request error occurred: {req_err}\")\n",
    "        return {\"error\": str(req_err)}\n",
    "    except ValueError as json_err: # If response is not JSON\n",
    "        print(f\"JSON decoding error: {json_err}\")\n",
    "        return {\"error\": \"Failed to decode JSON from response.\", \"raw_content\": response.text if 'response' in locals() else \"No response object\"}\n",
    "\n",
    "# --- 2. Specific API Call Functions ---\n",
    "\n",
    "def search_meal_by_name(meal_name):\n",
    "    \"\"\"Searches for meals by name.\"\"\"\n",
    "    if not meal_name:\n",
    "        print(\"Error: Meal name cannot be empty.\")\n",
    "        return {\"error\": \"Meal name cannot be empty.\"}\n",
    "    return fetch_api_data(\"search.php\", params={\"s\": meal_name})\n",
    "\n",
    "def list_meals_by_first_letter(letter):\n",
    "    \"\"\"Lists meals starting with a specific letter.\"\"\"\n",
    "    if not letter or len(letter) != 1:\n",
    "        print(\"Error: Please provide a single letter.\")\n",
    "        return {\"error\": \"Invalid letter provided.\"}\n",
    "    return fetch_api_data(\"search.php\", params={\"f\": letter})\n",
    "\n",
    "def get_random_meal():\n",
    "    \"\"\"Gets a single random meal with full details.\"\"\"\n",
    "    return fetch_api_data(\"random.php\")\n",
    "\n",
    "def filter_by_main_ingredient(ingredient_name):\n",
    "    \"\"\"Filters meals by a main ingredient.\"\"\"\n",
    "    if not ingredient_name:\n",
    "        print(\"Error: Ingredient name cannot be empty.\")\n",
    "        return {\"error\": \"Ingredient name cannot be empty.\"}\n",
    "    return fetch_api_data(\"filter.php\", params={\"i\": ingredient_name})\n",
    "\n",
    "def filter_by_category(category_name):\n",
    "    \"\"\"Filters meals by category.\"\"\"\n",
    "    if not category_name:\n",
    "        print(\"Error: Category name cannot be empty.\")\n",
    "        return {\"error\": \"Category name cannot be empty.\"}\n",
    "    return fetch_api_data(\"filter.php\", params={\"c\": category_name})\n",
    "\n",
    "def filter_by_area(area_name):\n",
    "    \"\"\"Filters meals by area/cuisine.\"\"\"\n",
    "    if not area_name:\n",
    "        print(\"Error: Area name cannot be empty.\")\n",
    "        return {\"error\": \"Area name cannot be empty.\"}\n",
    "    return fetch_api_data(\"filter.php\", params={\"a\": area_name})\n",
    "\n",
    "\n",
    "# --- 3. Display Functions for Jupyter Notebook ---\n",
    "\n",
    "def display_meal_summary_card(meal):\n",
    "    \"\"\"Displays a summary card for a meal (typically from search/filter results).\"\"\"\n",
    "    html_output = f\"\"\"\n",
    "    <div style=\"border: 1px solid #ddd; border-radius: 8px; margin: 10px; padding: 15px; width: 300px; display: inline-block; vertical-align: top; box-shadow: 2px 2px 5px #ccc;\">\n",
    "        <h3 style=\"margin-top:0;\">{meal.get('strMeal', 'N/A')}</h3>\n",
    "    \"\"\"\n",
    "    if meal.get('strMealThumb'):\n",
    "        html_output += f'<img src=\"{meal[\"strMealThumb\"]}\" alt=\"{meal.get(\"strMeal\", \"Meal image\")}\" style=\"width:100%; max-width:280px; border-radius: 5px; margin-bottom:10px;\">'\n",
    "    \n",
    "    # Filter/Search results don't usually have category/area directly in the meal object\n",
    "    # but if they did, you could add them here.\n",
    "    # Example if present:\n",
    "    # if meal.get('strCategory'):\n",
    "    #     html_output += f'<p><strong>Category:</strong> {meal[\"strCategory\"]}</p>'\n",
    "    # if meal.get('strArea'):\n",
    "    #     html_output += f'<p><strong>Area:</strong> {meal[\"strArea\"]}</p>'\n",
    "        \n",
    "    html_output += \"</div>\"\n",
    "    display(HTML(html_output))\n",
    "\n",
    "def display_detailed_meal_card(meal):\n",
    "    \"\"\"Displays a detailed card for a single meal (typically from random.php or lookup.php).\"\"\"\n",
    "    if not meal:\n",
    "        display(HTML(\"<p>No meal data to display.</p>\"))\n",
    "        return\n",
    "\n",
    "    html_output = f\"\"\"\n",
    "    <div style=\"border: 1px solid #ddd; border-radius: 10px; margin: 15px; padding: 20px; max-width: 700px; box-shadow: 3px 3px 8px #bbb;\">\n",
    "        <h2 style=\"color: #c0392b; margin-top:0;\">{meal.get('strMeal', 'N/A')}</h2>\n",
    "    \"\"\"\n",
    "    if meal.get('strMealThumb'):\n",
    "        html_output += f'<img src=\"{meal[\"strMealThumb\"]}\" alt=\"{meal.get(\"strMeal\", \"Meal image\")}\" style=\"width:100%; max-width:400px; border-radius: 8px; margin-bottom:15px; display:block; margin-left:auto; margin-right:auto;\">'\n",
    "    \n",
    "    if meal.get('strCategory'):\n",
    "        html_output += f'<p><strong>Category:</strong> <span style=\"background-color: #f1c40f; padding: 3px 7px; border-radius: 5px;\">{meal[\"strCategory\"]}</span></p>'\n",
    "    if meal.get('strArea'):\n",
    "        html_output += f'<p><strong>Area:</strong> <span style=\"background-color: #3498db; color: white; padding: 3px 7px; border-radius: 5px;\">{meal[\"strArea\"]}</span></p>'\n",
    "    \n",
    "    # Ingredients and Measures\n",
    "    ingredients_html = \"<h4><i class='fas fa-shopping-cart'></i> Ingredients:</h4><ul>\"\n",
    "    has_ingredients = False\n",
    "    for i in range(1, 21):\n",
    "        ingredient = meal.get(f'strIngredient{i}')\n",
    "        measure = meal.get(f'strMeasure{i}')\n",
    "        if ingredient and ingredient.strip():\n",
    "            has_ingredients = True\n",
    "            ingredients_html += f\"<li>{ingredient.strip()} - <em>{measure.strip() if measure else ''}</em></li>\"\n",
    "    ingredients_html += \"</ul>\"\n",
    "    if has_ingredients:\n",
    "        html_output += ingredients_html\n",
    "    \n",
    "    # Instructions\n",
    "    if meal.get('strInstructions'):\n",
    "        instructions = meal['strInstructions'].replace('\\r\\n', '<br>').replace('\\n', '<br>')\n",
    "        html_output += f\"\"\"\n",
    "        <h4><i class='fas fa-book-open'></i> Instructions:</h4>\n",
    "        <div style=\"background-color: #f9f9f9; border-left: 3px solid #c0392b; padding: 10px; margin-top:10px; line-height:1.6;\">\n",
    "            {instructions}\n",
    "        </div>\n",
    "        \"\"\"\n",
    "        \n",
    "    # YouTube Link\n",
    "    if meal.get('strYoutube'):\n",
    "        html_output += f'<p style=\"margin-top:15px;\"><a href=\"{meal[\"strYoutube\"]}\" target=\"_blank\" style=\"background-color: #e74c3c; color: white; padding: 10px 15px; text-decoration: none; border-radius: 5px; display:inline-block;\">Watch on YouTube <i class=\"fab fa-youtube\"></i></a></p>'\n",
    "    \n",
    "    # Source Link\n",
    "    if meal.get('strSource'):\n",
    "         html_output += f'<p style=\"margin-top:10px;\"><a href=\"{meal[\"strSource\"]}\" target=\"_blank\" style=\"background-color: #2ecc71; color: white; padding: 10px 15px; text-decoration: none; border-radius: 5px; display:inline-block;\">View Source <i class=\"fas fa-external-link-alt\"></i></a></p>'\n",
    "\n",
    "    html_output += \"</div>\"\n",
    "    \n",
    "    # Add Font Awesome if you want icons (optional, include this once at the top of notebook or in first display)\n",
    "    display(HTML('<link rel=\"stylesheet\" href=\"https://cdnjs.cloudflare.com/ajax/libs/font-awesome/5.15.4/css/all.min.css\">'))\n",
    "    display(HTML(html_output))\n",
    "\n",
    "def display_meal_list(data, title=\"Meal Results\"):\n",
    "    \"\"\"\n",
    "    Displays a list of meals, using summary cards.\n",
    "    Handles cases where no meals are found or an error occurred.\n",
    "    \"\"\"\n",
    "    display(HTML(f\"<h2>{title}</h2>\"))\n",
    "    if not data or data.get(\"error\"):\n",
    "        error_message = data.get(\"error\", \"Unknown error\") if data else \"No data received\"\n",
    "        details = data.get(\"details\") if data else None\n",
    "        raw_content = data.get(\"raw_content\") if data else None\n",
    "        \n",
    "        html_error = f\"<p style='color:red;'><strong>Error:</strong> {error_message}</p>\"\n",
    "        if details:\n",
    "             html_error += f\"<pre>Details: {json.dumps(details, indent=2)}</pre>\"\n",
    "        if raw_content:\n",
    "             html_error += f\"<pre>Raw Content: {raw_content}</pre>\"\n",
    "        display(HTML(html_error))\n",
    "        return\n",
    "\n",
    "    meals = data.get(\"meals\")\n",
    "    if not meals: # API returns {\"meals\": null} if no results\n",
    "        display(HTML(\"<p>No meals found matching your criteria.</p>\"))\n",
    "        return\n",
    "    \n",
    "    # Display meals in a flex container for better layout\n",
    "    html_container_start = '<div style=\"display: flex; flex-wrap: wrap; justify-content: flex-start;\">'\n",
    "    html_container_end = '</div>'\n",
    "    \n",
    "    display(HTML(html_container_start))\n",
    "    for meal in meals:\n",
    "        display_meal_summary_card(meal)\n",
    "    display(HTML(html_container_end))"
   ]
  },
  {
   "cell_type": "code",
   "execution_count": 13,
   "id": "f1ba3b39",
   "metadata": {},
   "outputs": [
    {
     "data": {
      "text/html": [
       "<h2>Search Results for 'Arrabiata'</h2>"
      ],
      "text/plain": [
       "<IPython.core.display.HTML object>"
      ]
     },
     "metadata": {},
     "output_type": "display_data"
    },
    {
     "data": {
      "text/html": [
       "<div style=\"display: flex; flex-wrap: wrap; justify-content: flex-start;\">"
      ],
      "text/plain": [
       "<IPython.core.display.HTML object>"
      ]
     },
     "metadata": {},
     "output_type": "display_data"
    },
    {
     "data": {
      "text/html": [
       "\n",
       "    <div style=\"border: 1px solid #ddd; border-radius: 8px; margin: 10px; padding: 15px; width: 300px; display: inline-block; vertical-align: top; box-shadow: 2px 2px 5px #ccc;\">\n",
       "        <h3 style=\"margin-top:0;\">Spicy Arrabiata Penne</h3>\n",
       "    <img src=\"https://www.themealdb.com/images/media/meals/ustsqw1468250014.jpg\" alt=\"Spicy Arrabiata Penne\" style=\"width:100%; max-width:280px; border-radius: 5px; margin-bottom:10px;\"></div>"
      ],
      "text/plain": [
       "<IPython.core.display.HTML object>"
      ]
     },
     "metadata": {},
     "output_type": "display_data"
    },
    {
     "data": {
      "text/html": [
       "</div>"
      ],
      "text/plain": [
       "<IPython.core.display.HTML object>"
      ]
     },
     "metadata": {},
     "output_type": "display_data"
    },
    {
     "data": {
      "text/html": [
       "<h2>Search Results for 'XyzNonExistentMeal'</h2>"
      ],
      "text/plain": [
       "<IPython.core.display.HTML object>"
      ]
     },
     "metadata": {},
     "output_type": "display_data"
    },
    {
     "data": {
      "text/html": [
       "<p>No meals found matching your criteria.</p>"
      ],
      "text/plain": [
       "<IPython.core.display.HTML object>"
      ]
     },
     "metadata": {},
     "output_type": "display_data"
    }
   ],
   "source": [
    "# Example: Search for meals containing \"Arrabiata\"\n",
    "arrabiata_meals = search_meal_by_name(\"Arrabiata\")\n",
    "display_meal_list(arrabiata_meals, title=\"Search Results for 'Arrabiata'\")\n",
    "\n",
    "# Example: Search for a non-existent meal\n",
    "non_existent_meals = search_meal_by_name(\"XyzNonExistentMeal\")\n",
    "display_meal_list(non_existent_meals, title=\"Search Results for 'XyzNonExistentMeal'\")"
   ]
  },
  {
   "cell_type": "code",
   "execution_count": 7,
   "id": "730dcf47",
   "metadata": {},
   "outputs": [
    {
     "data": {
      "text/html": [
       "<h2>Random Meal</h2>"
      ],
      "text/plain": [
       "<IPython.core.display.HTML object>"
      ]
     },
     "metadata": {},
     "output_type": "display_data"
    },
    {
     "data": {
      "text/html": [
       "<link rel=\"stylesheet\" href=\"https://cdnjs.cloudflare.com/ajax/libs/font-awesome/5.15.4/css/all.min.css\">"
      ],
      "text/plain": [
       "<IPython.core.display.HTML object>"
      ]
     },
     "metadata": {},
     "output_type": "display_data"
    },
    {
     "data": {
      "text/html": [
       "\n",
       "    <div style=\"border: 1px solid #ddd; border-radius: 10px; margin: 15px; padding: 20px; max-width: 700px; box-shadow: 3px 3px 8px #bbb;\">\n",
       "        <h2 style=\"color: #c0392b; margin-top:0;\">Cabbage Soup (Shchi)</h2>\n",
       "    <img src=\"https://www.themealdb.com/images/media/meals/60oc3k1699009846.jpg\" alt=\"Cabbage Soup (Shchi)\" style=\"width:100%; max-width:400px; border-radius: 8px; margin-bottom:15px; display:block; margin-left:auto; margin-right:auto;\"><p><strong>Category:</strong> <span style=\"background-color: #f1c40f; padding: 3px 7px; border-radius: 5px;\">Vegetarian</span></p><p><strong>Area:</strong> <span style=\"background-color: #3498db; color: white; padding: 3px 7px; border-radius: 5px;\">Russian</span></p><h4><i class='fas fa-shopping-cart'></i> Ingredients:</h4><ul><li>Unsalted Butter - <em>3 tbs</em></li><li>Onion - <em>1 large</em></li><li>Cabbage - <em>1 medium</em></li><li>Carrots - <em>1</em></li><li>Celery - <em>1</em></li><li>Bay Leaf - <em>1</em></li><li>Vegetable Stock - <em>8 cups</em></li><li>Potatoes - <em>2 large</em></li><li>Tomatoes - <em>2 large</em></li><li>Sour Cream - <em>Garnish</em></li><li>Dill - <em>Garnish</em></li></ul>\n",
       "        <h4><i class='fas fa-book-open'></i> Instructions:</h4>\n",
       "        <div style=\"background-color: #f9f9f9; border-left: 3px solid #c0392b; padding: 10px; margin-top:10px; line-height:1.6;\">\n",
       "            Add the butter to a large Dutch oven or other heavy-duty pot over medium heat. When the butter has melted, add the onion and sauté until translucent.<br>Add the cabbage, carrot, and celery. Sauté until the vegetables begin to soften, stirring frequently, about 3 minutes.<br>Add the bay leaf and vegetable stock and bring to a boil over high heat. Reduce the heat to low and simmer, covered, until the vegetables are crisp-tender, about 15 minutes.<br>Add the potatoes and bring it back to a boil over high heat. Reduce the heat to low and simmer, covered, until the potatoes are tender, about 10 minutes.<br>Add the tomatoes (or undrained canned tomatoes) and bring the soup back to a boil over high heat. Reduce the heat to low and simmer, uncovered, for 5 minutes. Season to taste with salt and pepper.<br>emove and discard the bay leaf from the pot.<br>Serve topped with fresh sour cream and fresh dill.\n",
       "        </div>\n",
       "        <p style=\"margin-top:15px;\"><a href=\"https://www.youtube.com/watch?v=lTjlbqGc_Y8\" target=\"_blank\" style=\"background-color: #e74c3c; color: white; padding: 10px 15px; text-decoration: none; border-radius: 5px; display:inline-block;\">Watch on YouTube <i class=\"fab fa-youtube\"></i></a></p><p style=\"margin-top:10px;\"><a href=\"https://www.thespruceeats.com/traditional-russian-cabbage-soup-shchi-recipe-1135534\" target=\"_blank\" style=\"background-color: #2ecc71; color: white; padding: 10px 15px; text-decoration: none; border-radius: 5px; display:inline-block;\">View Source <i class=\"fas fa-external-link-alt\"></i></a></p></div>"
      ],
      "text/plain": [
       "<IPython.core.display.HTML object>"
      ]
     },
     "metadata": {},
     "output_type": "display_data"
    }
   ],
   "source": [
    "# Example: Get a random meal (this will show full details)\n",
    "random_meal_data = get_random_meal()\n",
    "\n",
    "if random_meal_data and random_meal_data.get(\"meals\"):\n",
    "    display(HTML(\"<h2>Random Meal</h2>\"))\n",
    "    display_detailed_meal_card(random_meal_data[\"meals\"][0]) # random.php returns a list with one meal\n",
    "elif random_meal_data and random_meal_data.get(\"error\"):\n",
    "    display_meal_list(random_meal_data, title=\"Error Fetching Random Meal\") # Use display_meal_list to show error\n",
    "else:\n",
    "    display(HTML(\"<p>Could not fetch a random meal.</p>\"))"
   ]
  },
  {
   "cell_type": "code",
   "execution_count": 12,
   "id": "2108d29d",
   "metadata": {},
   "outputs": [
    {
     "data": {
      "text/html": [
       "<h2>Uruguayan Cuisine</h2>"
      ],
      "text/plain": [
       "<IPython.core.display.HTML object>"
      ]
     },
     "metadata": {},
     "output_type": "display_data"
    },
    {
     "data": {
      "text/html": [
       "<div style=\"display: flex; flex-wrap: wrap; justify-content: flex-start;\">"
      ],
      "text/plain": [
       "<IPython.core.display.HTML object>"
      ]
     },
     "metadata": {},
     "output_type": "display_data"
    },
    {
     "data": {
      "text/html": [
       "\n",
       "    <div style=\"border: 1px solid #ddd; border-radius: 8px; margin: 10px; padding: 15px; width: 300px; display: inline-block; vertical-align: top; box-shadow: 2px 2px 5px #ccc;\">\n",
       "        <h3 style=\"margin-top:0;\">Chivito uruguayo</h3>\n",
       "    <img src=\"https://www.themealdb.com/images/media/meals/n7qnkb1630444129.jpg\" alt=\"Chivito uruguayo\" style=\"width:100%; max-width:280px; border-radius: 5px; margin-bottom:10px;\"></div>"
      ],
      "text/plain": [
       "<IPython.core.display.HTML object>"
      ]
     },
     "metadata": {},
     "output_type": "display_data"
    },
    {
     "data": {
      "text/html": [
       "</div>"
      ],
      "text/plain": [
       "<IPython.core.display.HTML object>"
      ]
     },
     "metadata": {},
     "output_type": "display_data"
    }
   ],
   "source": [
    "# Example: Filter meals by \"Italian\" area\n",
    "italian_meals = filter_by_area(\"Uruguayan\")\n",
    "display_meal_list(italian_meals, title=\"Uruguayan Cuisine\")"
   ]
  },
  {
   "cell_type": "code",
   "execution_count": null,
   "id": "bee12c6c",
   "metadata": {},
   "outputs": [],
   "source": []
  }
 ],
 "metadata": {
  "kernelspec": {
   "display_name": "Python 3",
   "language": "python",
   "name": "python3"
  },
  "language_info": {
   "codemirror_mode": {
    "name": "ipython",
    "version": 3
   },
   "file_extension": ".py",
   "mimetype": "text/x-python",
   "name": "python",
   "nbconvert_exporter": "python",
   "pygments_lexer": "ipython3",
   "version": "3.12.3"
  }
 },
 "nbformat": 4,
 "nbformat_minor": 5
}
